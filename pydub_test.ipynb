{
 "cells": [
  {
   "cell_type": "code",
   "execution_count": 1,
   "metadata": {},
   "outputs": [],
   "source": [
    "from pydub import AudioSegment\n",
    "from pydub.effects import low_pass_filter, high_pass_filter\n",
    "import pydub\n",
    "import os\n",
    "import shutil"
   ]
  },
  {
   "cell_type": "code",
   "execution_count": 2,
   "metadata": {},
   "outputs": [],
   "source": [
    "audio = AudioSegment.from_mp3('test.MP3')"
   ]
  },
  {
   "cell_type": "code",
   "execution_count": 3,
   "metadata": {},
   "outputs": [],
   "source": [
    "output_folder = \"output\""
   ]
  },
  {
   "cell_type": "markdown",
   "metadata": {},
   "source": [
    "고주파 및 저주파 필터링"
   ]
  },
  {
   "cell_type": "code",
   "execution_count": 35,
   "metadata": {},
   "outputs": [],
   "source": [
    "filtered_audio = low_pass_filter(high_pass_filter(audio, cutoff=300), cutoff=1400)"
   ]
  },
  {
   "cell_type": "code",
   "execution_count": 36,
   "metadata": {},
   "outputs": [
    {
     "data": {
      "text/plain": [
       "<_io.BufferedRandom name='filter_output.mp3'>"
      ]
     },
     "execution_count": 36,
     "metadata": {},
     "output_type": "execute_result"
    }
   ],
   "source": [
    "filtered_audio.export(\"filter_output.mp3\", format='mp3')"
   ]
  },
  {
   "cell_type": "markdown",
   "metadata": {},
   "source": [
    "소리가 들리는 부분 저장"
   ]
  },
  {
   "cell_type": "code",
   "execution_count": 42,
   "metadata": {},
   "outputs": [
    {
     "name": "stdout",
     "output_type": "stream",
     "text": [
      "long: output/split_12155_13432.mp3\n",
      "long: output/split_30051_31392.mp3\n",
      "long: output/split_57186_58491.mp3\n",
      "long: output/split_62244_63325.mp3\n",
      "long: output/split_64669_65729.mp3\n",
      "long: output/split_68363_69475.mp3\n",
      "long: output/split_71290_72555.mp3\n",
      "long: output/split_79243_81216.mp3\n",
      "long: output/split_82979_83986.mp3\n",
      "long: output/split_85240_86463.mp3\n",
      "long: output/split_87383_88414.mp3\n",
      "long: output/split_97075_98336.mp3\n",
      "long: output/split_103754_105029.mp3\n",
      "long: output/split_107285_108568.mp3\n",
      "long: output/split_108738_109852.mp3\n",
      "long: output/split_111763_112823.mp3\n",
      "long: output/split_114017_115264.mp3\n",
      "long: output/split_118980_120257.mp3\n",
      "long: output/split_123071_124553.mp3\n",
      "long: output/split_127861_129099.mp3\n",
      "long: output/split_132879_134068.mp3\n",
      "long: output/split_137635_138894.mp3\n",
      "long: output/split_140639_141577.mp3\n",
      "long: output/split_142646_145390.mp3\n",
      "long: output/split_145838_147130.mp3\n",
      "long: output/split_151885_154067.mp3\n",
      "long: output/split_154849_158381.mp3\n"
     ]
    }
   ],
   "source": [
    "if os.path.exists(output_folder):\n",
    "    shutil.rmtree(output_folder)\n",
    "\n",
    "long_folder = \"long\"\n",
    "\n",
    "if os.path.exists(long_folder):\n",
    "    shutil.rmtree(long_folder)\n",
    "\n",
    "os.mkdir(output_folder)\n",
    "os.mkdir(long_folder)\n",
    "\n",
    "silence_ranges = pydub.silence.detect_silence(filtered_audio, silence_thresh=-55, min_silence_len=200, seek_step=1)\n",
    "\n",
    "for i in range(1, len(silence_ranges)):\n",
    "    _, start = silence_ranges[i-1]\n",
    "    end, _ = silence_ranges[i]\n",
    "\n",
    "    if start - 50 >= 0:\n",
    "        start = start - 50\n",
    "    if end + 50 <= len(silence_ranges) - 1:\n",
    "        end = end + 50\n",
    "    segment = audio[start: end]\n",
    "    output_file_name = f\"{output_folder}/split_{start}_{end}.mp3\"\n",
    "    if len(segment) < 300:\n",
    "        continue\n",
    "    elif len(segment) > 900:\n",
    "        print(\"long: \" + output_file_name)\n",
    "        output_file_name = f\"{long_folder}/split_{start}_{end}.mp3\"\n",
    "    segment.export(output_file_name, format='mp3')"
   ]
  },
  {
   "cell_type": "code",
   "execution_count": 43,
   "metadata": {},
   "outputs": [],
   "source": [
    "import glob\n",
    "\n",
    "file_paths = glob.glob(output_folder + '/*')"
   ]
  },
  {
   "cell_type": "markdown",
   "metadata": {},
   "source": [
    "NHNCloud STT API를 활용한 음성 데이터 라벨링"
   ]
  },
  {
   "cell_type": "code",
   "execution_count": 8,
   "metadata": {},
   "outputs": [],
   "source": [
    "import requests\n",
    "import json"
   ]
  },
  {
   "cell_type": "code",
   "execution_count": null,
   "metadata": {},
   "outputs": [],
   "source": [
    "secret_key = \"secret_key\""
   ]
  },
  {
   "cell_type": "code",
   "execution_count": 44,
   "metadata": {},
   "outputs": [],
   "source": [
    "results = []\n",
    "for file in file_paths:\n",
    "    response = requests.post(\"https://speech.api.nhncloudservice.com/v1.0/appkeys/{AppKey}/stt\", headers={\"Authorization\": secret_key}, files={'audio': open(file, 'rb')})\n",
    "    result = json.loads(response.text)['result']\n",
    "    results.append(result)"
   ]
  },
  {
   "cell_type": "code",
   "execution_count": 45,
   "metadata": {},
   "outputs": [
    {
     "data": {
      "text/plain": [
       "[{'inputLength': 0.5, 'fileType': 'mp3', 'text': '차라리', 'confidence': 0.86},\n",
       " {'inputLength': 0.37, 'fileType': 'mp3', 'text': '에코', 'confidence': 0.63},\n",
       " {'inputLength': 0.48, 'fileType': 'mp3', 'text': '된 거', 'confidence': 0.82},\n",
       " {'inputLength': 0.49, 'fileType': 'mp3', 'text': '차라리', 'confidence': 0.91},\n",
       " {'inputLength': 0.39, 'fileType': 'mp3', 'text': '했고', 'confidence': 0.79},\n",
       " {'inputLength': 0.3, 'fileType': 'mp3', 'text': '', 'confidence': 0.0},\n",
       " {'inputLength': 0.36, 'fileType': 'mp3', 'text': '그럼 이', 'confidence': 0.65},\n",
       " {'inputLength': 0.67, 'fileType': 'mp3', 'text': '오스카', 'confidence': 0.91},\n",
       " {'inputLength': 0.42, 'fileType': 'mp3', 'text': '말', 'confidence': 0.79},\n",
       " {'inputLength': 0.39, 'fileType': 'mp3', 'text': '', 'confidence': 0.0},\n",
       " {'inputLength': 0.53, 'fileType': 'mp3', 'text': '', 'confidence': 0.0},\n",
       " {'inputLength': 0.5, 'fileType': 'mp3', 'text': '얘기 마', 'confidence': 0.54},\n",
       " {'inputLength': 0.54, 'fileType': 'mp3', 'text': '댕고', 'confidence': 0.8},\n",
       " {'inputLength': 0.54, 'fileType': 'mp3', 'text': '시 실화', 'confidence': 0.58},\n",
       " {'inputLength': 0.48, 'fileType': 'mp3', 'text': '시해라.', 'confidence': 0.72},\n",
       " {'inputLength': 0.42, 'fileType': 'mp3', 'text': '말', 'confidence': 0.9},\n",
       " {'inputLength': 0.54, 'fileType': 'mp3', 'text': '루미오', 'confidence': 0.82},\n",
       " {'inputLength': 0.41, 'fileType': 'mp3', 'text': '일단', 'confidence': 0.64},\n",
       " {'inputLength': 0.6, 'fileType': 'mp3', 'text': '알 거', 'confidence': 0.7},\n",
       " {'inputLength': 0.44, 'fileType': 'mp3', 'text': '됐다.', 'confidence': 0.94},\n",
       " {'inputLength': 0.54, 'fileType': 'mp3', 'text': '양길', 'confidence': 0.74},\n",
       " {'inputLength': 0.41, 'fileType': 'mp3', 'text': '말했', 'confidence': 0.79},\n",
       " {'inputLength': 0.4, 'fileType': 'mp3', 'text': '대부만', 'confidence': 0.54},\n",
       " {'inputLength': 0.52, 'fileType': 'mp3', 'text': '일단', 'confidence': 0.63},\n",
       " {'inputLength': 0.51, 'fileType': 'mp3', 'text': '러미오', 'confidence': 0.69},\n",
       " {'inputLength': 0.3, 'fileType': 'mp3', 'text': '', 'confidence': 0.0},\n",
       " {'inputLength': 0.65, 'fileType': 'mp3', 'text': '오스카', 'confidence': 0.77},\n",
       " {'inputLength': 0.52, 'fileType': 'mp3', 'text': '골프', 'confidence': 0.94},\n",
       " {'inputLength': 0.33, 'fileType': 'mp3', 'text': '', 'confidence': 0.0},\n",
       " {'inputLength': 0.33, 'fileType': 'mp3', 'text': '', 'confidence': 0.0},\n",
       " {'inputLength': 0.41, 'fileType': 'mp3', 'text': '얘랑', 'confidence': 0.6},\n",
       " {'inputLength': 0.46, 'fileType': 'mp3', 'text': '알파', 'confidence': 0.88},\n",
       " {'inputLength': 0.61, 'fileType': 'mp3', 'text': '오스카', 'confidence': 0.84},\n",
       " {'inputLength': 0.68, 'fileType': 'mp3', 'text': '유니콘', 'confidence': 0.75},\n",
       " {'inputLength': 0.51, 'fileType': 'mp3', 'text': '인디어', 'confidence': 0.88},\n",
       " {'inputLength': 0.47, 'fileType': 'mp3', 'text': '된 거', 'confidence': 0.85},\n",
       " {'inputLength': 0.56, 'fileType': 'mp3', 'text': '위스키', 'confidence': 0.75},\n",
       " {'inputLength': 0.39, 'fileType': 'mp3', 'text': '', 'confidence': 0.0},\n",
       " {'inputLength': 0.64, 'fileType': 'mp3', 'text': '내신을', 'confidence': 0.65},\n",
       " {'inputLength': 0.56, 'fileType': 'mp3', 'text': '인디야', 'confidence': 0.6},\n",
       " {'inputLength': 0.51, 'fileType': 'mp3', 'text': '차라리', 'confidence': 0.54},\n",
       " {'inputLength': 0.54, 'fileType': 'mp3', 'text': '탱고', 'confidence': 0.62},\n",
       " {'inputLength': 0.52, 'fileType': 'mp3', 'text': '깔끔하고', 'confidence': 0.78},\n",
       " {'inputLength': 0.35, 'fileType': 'mp3', 'text': '', 'confidence': 0.0},\n",
       " {'inputLength': 0.47, 'fileType': 'mp3', 'text': '인디야', 'confidence': 0.8},\n",
       " {'inputLength': 0.49, 'fileType': 'mp3', 'text': '그러고', 'confidence': 0.87},\n",
       " {'inputLength': 0.57, 'fileType': 'mp3', 'text': '유니폼', 'confidence': 0.87},\n",
       " {'inputLength': 0.6, 'fileType': 'mp3', 'text': '오스카', 'confidence': 0.63},\n",
       " {'inputLength': 0.57, 'fileType': 'mp3', 'text': '유니폼', 'confidence': 0.93},\n",
       " {'inputLength': 0.51, 'fileType': 'mp3', 'text': '롬이요.', 'confidence': 0.61},\n",
       " {'inputLength': 0.49, 'fileType': 'mp3', 'text': '된 거', 'confidence': 0.84},\n",
       " {'inputLength': 0.47, 'fileType': 'mp3', 'text': '잘 리', 'confidence': 0.69},\n",
       " {'inputLength': 0.5, 'fileType': 'mp3', 'text': '시해라.', 'confidence': 0.66},\n",
       " {'inputLength': 0.52, 'fileType': 'mp3', 'text': '알 거야', 'confidence': 0.89},\n",
       " {'inputLength': 0.55, 'fileType': 'mp3', 'text': '알파', 'confidence': 0.75},\n",
       " {'inputLength': 0.41, 'fileType': 'mp3', 'text': '설마', 'confidence': 0.73},\n",
       " {'inputLength': 0.48, 'fileType': 'mp3', 'text': '센터', 'confidence': 0.72},\n",
       " {'inputLength': 0.48, 'fileType': 'mp3', 'text': '탱고', 'confidence': 0.57},\n",
       " {'inputLength': 0.64, 'fileType': 'mp3', 'text': '유니폼', 'confidence': 0.9},\n",
       " {'inputLength': 0.47, 'fileType': 'mp3', 'text': '백구', 'confidence': 0.78},\n",
       " {'inputLength': 0.51, 'fileType': 'mp3', 'text': '지혜라.', 'confidence': 0.56},\n",
       " {'inputLength': 0.35, 'fileType': 'mp3', 'text': '', 'confidence': 0.0},\n",
       " {'inputLength': 0.47, 'fileType': 'mp3', 'text': '호텔', 'confidence': 0.92},\n",
       " {'inputLength': 0.55, 'fileType': 'mp3', 'text': '에코', 'confidence': 0.9},\n",
       " {'inputLength': 0.56, 'fileType': 'mp3', 'text': '인디야', 'confidence': 0.72},\n",
       " {'inputLength': 0.38, 'fileType': 'mp3', 'text': '말', 'confidence': 0.58},\n",
       " {'inputLength': 0.61, 'fileType': 'mp3', 'text': '알 거야', 'confidence': 0.81},\n",
       " {'inputLength': 0.49, 'fileType': 'mp3', 'text': '지해라.', 'confidence': 0.73},\n",
       " {'inputLength': 0.55, 'fileType': 'mp3', 'text': '오스카', 'confidence': 0.93},\n",
       " {'inputLength': 0.5, 'fileType': 'mp3', 'text': '너는 햄버거', 'confidence': 0.8},\n",
       " {'inputLength': 0.55,\n",
       "  'fileType': 'mp3',\n",
       "  'text': '그럼 햄버거',\n",
       "  'confidence': 0.84},\n",
       " {'inputLength': 0.51, 'fileType': 'mp3', 'text': '인디야', 'confidence': 0.89},\n",
       " {'inputLength': 0.51, 'fileType': 'mp3', 'text': '너 멤버', 'confidence': 0.71},\n",
       " {'inputLength': 0.52, 'fileType': 'mp3', 'text': '', 'confidence': 0.0},\n",
       " {'inputLength': 0.45, 'fileType': 'mp3', 'text': '에코', 'confidence': 0.71},\n",
       " {'inputLength': 0.39, 'fileType': 'mp3', 'text': '호스트', 'confidence': 0.66},\n",
       " {'inputLength': 0.55, 'fileType': 'mp3', 'text': '알파', 'confidence': 0.95},\n",
       " {'inputLength': 0.6, 'fileType': 'mp3', 'text': '오스카', 'confidence': 0.79},\n",
       " {'inputLength': 0.42, 'fileType': 'mp3', 'text': '에코', 'confidence': 0.76},\n",
       " {'inputLength': 0.52, 'fileType': 'mp3', 'text': '두라고', 'confidence': 0.76}]"
      ]
     },
     "execution_count": 45,
     "metadata": {},
     "output_type": "execute_result"
    }
   ],
   "source": [
    "results"
   ]
  }
 ],
 "metadata": {
  "kernelspec": {
   "display_name": "base",
   "language": "python",
   "name": "python3"
  },
  "language_info": {
   "codemirror_mode": {
    "name": "ipython",
    "version": 3
   },
   "file_extension": ".py",
   "mimetype": "text/x-python",
   "name": "python",
   "nbconvert_exporter": "python",
   "pygments_lexer": "ipython3",
   "version": "3.11.5"
  }
 },
 "nbformat": 4,
 "nbformat_minor": 2
}
